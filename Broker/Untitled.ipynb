{
 "cells": [
  {
   "cell_type": "code",
   "execution_count": 1,
   "id": "4b60a4db-a0c7-4917-bcc8-2ff73eaa4b7d",
   "metadata": {},
   "outputs": [
    {
     "name": "stdout",
     "output_type": "stream",
     "text": [
      "Collecting ibapi\n",
      "  Downloading ibapi-9.81.1.post1.tar.gz (61 kB)\n",
      "  Preparing metadata (setup.py) ... \u001b[?25ldone\n",
      "\u001b[?25hBuilding wheels for collected packages: ibapi\n",
      "  Building wheel for ibapi (setup.py) ... \u001b[?25ldone\n",
      "\u001b[?25h  Created wheel for ibapi: filename=ibapi-9.81.1.post1-py3-none-any.whl size=67943 sha256=037b44915759be0cf03a2be0a04e7cd9f9d245f62f44ae733f715f1ea24bd62e\n",
      "  Stored in directory: /Users/sousharma/Library/Caches/pip/wheels/da/13/2b/1bf49acd2509e17f0a89926c3214b5de879ab6f223d27ded38\n",
      "Successfully built ibapi\n",
      "Installing collected packages: ibapi\n",
      "Successfully installed ibapi-9.81.1.post1\n",
      "\n",
      "\u001b[1m[\u001b[0m\u001b[34;49mnotice\u001b[0m\u001b[1;39;49m]\u001b[0m\u001b[39;49m A new release of pip is available: \u001b[0m\u001b[31;49m24.3.1\u001b[0m\u001b[39;49m -> \u001b[0m\u001b[32;49m25.0.1\u001b[0m\n",
      "\u001b[1m[\u001b[0m\u001b[34;49mnotice\u001b[0m\u001b[1;39;49m]\u001b[0m\u001b[39;49m To update, run: \u001b[0m\u001b[32;49mpip install --upgrade pip\u001b[0m\n",
      "Note: you may need to restart the kernel to use updated packages.\n"
     ]
    }
   ],
   "source": [
    "pip install ibapi"
   ]
  },
  {
   "cell_type": "code",
   "execution_count": 2,
   "id": "9f600fb2-9e4f-44b2-a08e-567018dc61b8",
   "metadata": {},
   "outputs": [],
   "source": [
    "from ibapi.client import EClient\n",
    "from ibapi.wrapper import EWrapper\n",
    "from ibapi.contract import Contract\n",
    "import threading\n",
    "import time"
   ]
  },
  {
   "cell_type": "code",
   "execution_count": 3,
   "id": "017afff8-2799-425a-a815-618d5280352c",
   "metadata": {},
   "outputs": [],
   "source": [
    "class TradingApp(EClient, EWrapper):\n",
    "    def __init__(self):\n",
    "        EClient.__init__(self, self)\n",
    "    def Error(self, reqId, errorCode, errorString):\n",
    "        print(f\"Error {reqId} {errroCode} {errorSring}\")\n",
    "    def contractDetails(self, reqId, contractDetails):\n",
    "        print(f\" reqID: {reqId}, contract: {contractDetails}\")"
   ]
  },
  {
   "cell_type": "code",
   "execution_count": null,
   "id": "ee6ac5b2-f4e7-47e7-b2b6-873f6c3b56df",
   "metadata": {},
   "outputs": [],
   "source": [
    "def webscocket_con():\n",
    "    app.run()\n",
    "\n"
   ]
  }
 ],
 "metadata": {
  "kernelspec": {
   "display_name": "Python 3 (ipykernel)",
   "language": "python",
   "name": "python3"
  },
  "language_info": {
   "codemirror_mode": {
    "name": "ipython",
    "version": 3
   },
   "file_extension": ".py",
   "mimetype": "text/x-python",
   "name": "python",
   "nbconvert_exporter": "python",
   "pygments_lexer": "ipython3",
   "version": "3.11.7"
  }
 },
 "nbformat": 4,
 "nbformat_minor": 5
}
