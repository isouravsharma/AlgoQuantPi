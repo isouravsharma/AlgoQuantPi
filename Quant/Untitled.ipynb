{
 "cells": [
  {
   "cell_type": "code",
   "execution_count": 2,
   "id": "d84315ae-64e0-4c9d-80e8-ec2903b983bd",
   "metadata": {},
   "outputs": [],
   "source": [
    "import pandas as pd\n",
    "import numpy as np"
   ]
  },
  {
   "cell_type": "code",
   "execution_count": 14,
   "id": "f7bb77ba-ae4c-48af-9536-46668093ff58",
   "metadata": {},
   "outputs": [],
   "source": [
    "prices = np.array([100, 102, 100, 105, 103])"
   ]
  },
  {
   "cell_type": "code",
   "execution_count": 15,
   "id": "cd1aa84f-7189-42cd-adde-ceacedcfd8b3",
   "metadata": {},
   "outputs": [
    {
     "data": {
      "text/plain": [
       "array([100, 102, 100, 105, 103])"
      ]
     },
     "execution_count": 15,
     "metadata": {},
     "output_type": "execute_result"
    }
   ],
   "source": [
    "prices"
   ]
  },
  {
   "cell_type": "code",
   "execution_count": 16,
   "id": "b6221b36-0547-4347-bd8f-9088dd08f7fd",
   "metadata": {},
   "outputs": [
    {
     "data": {
      "text/plain": [
       "array([ 2, -2,  5, -2])"
      ]
     },
     "execution_count": 16,
     "metadata": {},
     "output_type": "execute_result"
    }
   ],
   "source": [
    "np.diff(prices)"
   ]
  },
  {
   "cell_type": "code",
   "execution_count": 19,
   "id": "2f0b68d8-e8bf-47ff-9bed-2f1b90c3348d",
   "metadata": {},
   "outputs": [
    {
     "data": {
      "text/plain": [
       "array([100, 102, 100, 105])"
      ]
     },
     "execution_count": 19,
     "metadata": {},
     "output_type": "execute_result"
    }
   ],
   "source": [
    "prices[:-1]"
   ]
  },
  {
   "cell_type": "code",
   "execution_count": 12,
   "id": "bb7cc9ac-b1b0-453f-8b7c-77fbd63b6cb7",
   "metadata": {},
   "outputs": [
    {
     "data": {
      "text/plain": [
       "array([ 0.02      , -0.01960784,  0.05      , -0.01904762])"
      ]
     },
     "execution_count": 12,
     "metadata": {},
     "output_type": "execute_result"
    }
   ],
   "source": [
    "\n",
    "np.diff(prices) / prices[:-1]"
   ]
  },
  {
   "cell_type": "code",
   "execution_count": 26,
   "id": "7213f14d-8cf5-4356-b7f6-ab8c7f731414",
   "metadata": {},
   "outputs": [],
   "source": [
    "prices = pd.DataFrame(prices)\n",
    "a = prices.pct_change()"
   ]
  },
  {
   "cell_type": "code",
   "execution_count": 28,
   "id": "76bb85a8-8876-4b0c-bb79-7cff8d7b22c1",
   "metadata": {},
   "outputs": [
    {
     "data": {
      "text/html": [
       "<div>\n",
       "<style scoped>\n",
       "    .dataframe tbody tr th:only-of-type {\n",
       "        vertical-align: middle;\n",
       "    }\n",
       "\n",
       "    .dataframe tbody tr th {\n",
       "        vertical-align: top;\n",
       "    }\n",
       "\n",
       "    .dataframe thead th {\n",
       "        text-align: right;\n",
       "    }\n",
       "</style>\n",
       "<table border=\"1\" class=\"dataframe\">\n",
       "  <thead>\n",
       "    <tr style=\"text-align: right;\">\n",
       "      <th></th>\n",
       "      <th>0</th>\n",
       "    </tr>\n",
       "  </thead>\n",
       "  <tbody>\n",
       "    <tr>\n",
       "      <th>0</th>\n",
       "      <td>NaN</td>\n",
       "    </tr>\n",
       "    <tr>\n",
       "      <th>1</th>\n",
       "      <td>1.02</td>\n",
       "    </tr>\n",
       "    <tr>\n",
       "      <th>2</th>\n",
       "      <td>1.00</td>\n",
       "    </tr>\n",
       "    <tr>\n",
       "      <th>3</th>\n",
       "      <td>1.05</td>\n",
       "    </tr>\n",
       "    <tr>\n",
       "      <th>4</th>\n",
       "      <td>1.03</td>\n",
       "    </tr>\n",
       "  </tbody>\n",
       "</table>\n",
       "</div>"
      ],
      "text/plain": [
       "      0\n",
       "0   NaN\n",
       "1  1.02\n",
       "2  1.00\n",
       "3  1.05\n",
       "4  1.03"
      ]
     },
     "execution_count": 28,
     "metadata": {},
     "output_type": "execute_result"
    }
   ],
   "source": [
    "(1+ a).cumprod()"
   ]
  },
  {
   "cell_type": "code",
   "execution_count": 31,
   "id": "baac0d1d-373d-40d4-bd57-a36042386650",
   "metadata": {},
   "outputs": [
    {
     "data": {
      "text/plain": [
       "(          0\n",
       " 0       NaN\n",
       " 1  0.020000\n",
       " 2 -0.019608\n",
       " 3  0.050000\n",
       " 4 -0.019048,\n",
       "           0\n",
       " 0       NaN\n",
       " 1  1.020000\n",
       " 2  0.980392\n",
       " 3  1.050000\n",
       " 4  0.980952,\n",
       "       0\n",
       " 0   NaN\n",
       " 1  1.02\n",
       " 2  1.00\n",
       " 3  1.05\n",
       " 4  1.03)"
      ]
     },
     "execution_count": 31,
     "metadata": {},
     "output_type": "execute_result"
    }
   ],
   "source": [
    "a, 1+ a, (1+ a).cumprod()"
   ]
  },
  {
   "cell_type": "code",
   "execution_count": null,
   "id": "0f9860d3-dbba-46fa-91c1-6ea70355d9a2",
   "metadata": {},
   "outputs": [],
   "source": []
  }
 ],
 "metadata": {
  "kernelspec": {
   "display_name": "Python 3 (ipykernel)",
   "language": "python",
   "name": "python3"
  },
  "language_info": {
   "codemirror_mode": {
    "name": "ipython",
    "version": 3
   },
   "file_extension": ".py",
   "mimetype": "text/x-python",
   "name": "python",
   "nbconvert_exporter": "python",
   "pygments_lexer": "ipython3",
   "version": "3.11.7"
  }
 },
 "nbformat": 4,
 "nbformat_minor": 5
}
