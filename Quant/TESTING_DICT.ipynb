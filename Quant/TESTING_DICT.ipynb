{
 "cells": [
  {
   "cell_type": "code",
   "execution_count": 268,
   "id": "9f953d5d-2114-403a-a7cf-dd9a15e1ae47",
   "metadata": {},
   "outputs": [
    {
     "name": "stdout",
     "output_type": "stream",
     "text": [
      "The autoreload extension is already loaded. To reload it, use:\n",
      "  %reload_ext autoreload\n"
     ]
    }
   ],
   "source": [
    "from getData import get_data\n",
    "from technical_indicator import LR, MACD, RSI, BB, ATR, ADX, RENKO\n",
    "from Returns import cummulative_returns, CAGR, volatility, SHARPE, SORTINO, MAXDROWDOWN, CALMAR\n",
    "\n",
    "import matplotlib.pyplot as plt\n",
    "import yfinance as yf\n",
    "import pandas as pd\n",
    "import numpy as np\n",
    "import datetime as dt\n",
    "%load_ext autoreload\n",
    "%autoreload 2\n",
    "pd.set_option('mode.chained_assignment', None)\n"
   ]
  },
  {
   "cell_type": "code",
   "execution_count": 225,
   "id": "a61c3970-74e3-46bd-a472-c12514c7fb15",
   "metadata": {},
   "outputs": [
    {
     "name": "stderr",
     "output_type": "stream",
     "text": [
      "[*********************100%***********************]  1 of 1 completed\n",
      "[*********************100%***********************]  1 of 1 completed\n",
      "[*********************100%***********************]  1 of 1 completed\n",
      "[*********************100%***********************]  1 of 1 completed\n",
      "[*********************100%***********************]  1 of 1 completed\n",
      "[*********************100%***********************]  1 of 1 completed\n",
      "[*********************100%***********************]  1 of 1 completed\n",
      "[*********************100%***********************]  1 of 1 completed\n",
      "[*********************100%***********************]  1 of 1 completed\n",
      "[*********************100%***********************]  1 of 1 completed\n",
      "[*********************100%***********************]  1 of 1 completed\n"
     ]
    }
   ],
   "source": [
    "# Store data in dictionary\n",
    "ohlcv_dict = {}\n",
    "for stock in tickers:\n",
    "    ohlcv_dict[stock] = get_ohlcv(ticker=stock, period = '5y', interval='1d')\n",
    "\n",
    "\n",
    "# data = copy.deepcopy(ohlcv_dict)\n",
    "\n"
   ]
  },
  {
   "cell_type": "code",
   "execution_count": 308,
   "id": "3076e1e5-c96e-4534-9368-1d927bfced74",
   "metadata": {},
   "outputs": [],
   "source": [
    "\n",
    "tickers = ['^NSEI', 'RELIANCE.NS', 'TCS.NS', 'HDFCBANK.NS', 'BHARTIARTL.NS', 'ICICIBANK.NS', 'INFY.NS', 'SBIN.NS', 'HINDUNILVR.NS', \n",
    "           'BAJFINANCE.NS',\n",
    "           'ITC.NS']"
   ]
  },
  {
   "cell_type": "code",
   "execution_count": 312,
   "id": "4b72b279-0330-45d4-b6c5-901eb2936baf",
   "metadata": {},
   "outputs": [],
   "source": [
    "data = copy.deepcopy(ohlcv_dict)"
   ]
  },
  {
   "cell_type": "code",
   "execution_count": 313,
   "id": "92d59618-e40c-47ba-9c5b-657d81187326",
   "metadata": {},
   "outputs": [
    {
     "name": "stdout",
     "output_type": "stream",
     "text": [
      "CAGR of ^NSEI is 14.29\n",
      "CAGR of RELIANCE.NS is 14.17\n",
      "CAGR of TCS.NS is 14.6\n",
      "CAGR of HDFCBANK.NS is 7.96\n",
      "CAGR of BHARTIARTL.NS is 26.77\n",
      "CAGR of ICICIBANK.NS is 19.55\n",
      "CAGR of INFY.NS is 21.08\n",
      "CAGR of SBIN.NS is 19.22\n",
      "CAGR of HINDUNILVR.NS is 1.79\n",
      "CAGR of BAJFINANCE.NS is 12.4\n",
      "CAGR of ITC.NS is 20.22\n"
     ]
    }
   ],
   "source": [
    "# Cummulative Return\n",
    "for stock in data.keys():\n",
    "    cummulative_returns(data[stock])\n",
    "# CAGR\n",
    "\n",
    "for stock in data.keys():\n",
    "    CAGR(data[stock])\n",
    "    print(f\"CAGR of {stock} is {round(((data[stock]['CAGR'].iloc[-1])*100),2)}\")"
   ]
  },
  {
   "cell_type": "code",
   "execution_count": null,
   "id": "1f2bcb18-a441-43b5-8681-ac8495e5fc6b",
   "metadata": {},
   "outputs": [],
   "source": []
  },
  {
   "cell_type": "code",
   "execution_count": null,
   "id": "aed56171-e11f-419e-811e-8db62b5e3d7a",
   "metadata": {},
   "outputs": [],
   "source": []
  }
 ],
 "metadata": {
  "kernelspec": {
   "display_name": "Python 3 (ipykernel)",
   "language": "python",
   "name": "python3"
  },
  "language_info": {
   "codemirror_mode": {
    "name": "ipython",
    "version": 3
   },
   "file_extension": ".py",
   "mimetype": "text/x-python",
   "name": "python",
   "nbconvert_exporter": "python",
   "pygments_lexer": "ipython3",
   "version": "3.11.7"
  }
 },
 "nbformat": 4,
 "nbformat_minor": 5
}
