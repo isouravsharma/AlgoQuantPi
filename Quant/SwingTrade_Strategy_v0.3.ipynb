{
 "cells": [
  {
   "cell_type": "code",
   "execution_count": 114,
   "id": "6bf2cdd4-2b8c-4bde-a6a9-078ece9eba0f",
   "metadata": {},
   "outputs": [],
   "source": [
    "# To download top 50 stocks"
   ]
  },
  {
   "cell_type": "code",
   "execution_count": 144,
   "id": "431585d3-e555-4222-a9d0-12b81bad1c1c",
   "metadata": {},
   "outputs": [
    {
     "name": "stdout",
     "output_type": "stream",
     "text": [
      "The autoreload extension is already loaded. To reload it, use:\n",
      "  %reload_ext autoreload\n"
     ]
    }
   ],
   "source": [
    "# libraries \n",
    "\n",
    "from getData import get_data, get_ohlcv\n",
    "from technical_indicator import LR, MACD, RSI, BB, ATR, ADX, RENKO, anomaly, historical_volatility, get_support_resistance_levels, VWAP\n",
    "from Returns import cummulative_returns, CAGR, volatility, SHARPE, SORTINO, MAXDROWDOWN, CALMAR\n",
    "from signals import stratgey1_mean_reversion\n",
    "\n",
    "\n",
    "from plotly.subplots import make_subplots\n",
    "import plotly.graph_objects as go\n",
    "\n",
    "import matplotlib.pyplot as plt\n",
    "import yfinance as yf\n",
    "import pandas as pd\n",
    "import numpy as np\n",
    "import datetime as dt\n",
    "import copy\n",
    "import os\n",
    "\n",
    "%load_ext autoreload\n",
    "%autoreload 2\n",
    "pd.set_option('mode.chained_assignment', None)"
   ]
  },
  {
   "cell_type": "markdown",
   "id": "34c41be2-98ee-4ccd-be0b-9da922cf02be",
   "metadata": {},
   "source": [
    "## Getting Data"
   ]
  },
  {
   "cell_type": "code",
   "execution_count": 145,
   "id": "16cb137a-9894-41da-ad34-a89c56e976f3",
   "metadata": {},
   "outputs": [],
   "source": [
    "# tickers = ['ICICIBANK.NS']\n",
    "# tickers\n",
    "\n",
    "# tickers = [\n",
    "#     'ADANIPORTS.NS', 'ASIANPAINT.NS', 'AXISBANK.NS', 'BAJAJ-AUTO.NS', 'BAJFINANCE.NS',\n",
    "#     'BAJAJFINSV.NS', 'BPCL.NS', 'BHARTIARTL.NS', 'CIPLA.NS', 'COALINDIA.NS',\n",
    "#     'DIVISLAB.NS', 'DRREDDY.NS', 'EICHERMOT.NS', 'GAIL.NS', 'GRASIM.NS',\n",
    "#     'HCLTECH.NS', 'HDFCBANK.NS', 'HEROMOTOCO.NS', 'HINDALCO.NS', 'HINDPETRO.NS',\n",
    "#     'HINDUNILVR.NS', 'HDFC.NS', 'ITC.NS', 'ICICIBANK.NS', 'IBULHSGFIN.NS',\n",
    "#     'IOC.NS', 'INDUSINDBK.NS', 'INFY.NS', 'JSWSTEEL.NS', 'KOTAKBANK.NS',\n",
    "#     'LT.NS', 'M&M.NS', 'MARUTI.NS', 'NTPC.NS', 'ONGC.NS', 'POWERGRID.NS',\n",
    "#     'RELIANCE.NS', 'SBIN.NS', 'SUNPHARMA.NS', 'TCS.NS', 'TATAMOTORS.NS',\n",
    "#     'TATASTEEL.NS', 'TECHM.NS', 'TITAN.NS', 'UPL.NS', 'ULTRACEMCO.NS',\n",
    "#     'VEDL.NS', 'WIPRO.NS', 'YESBANK.NS', 'ZEEL.NS'\n",
    "# ]\n",
    "\n",
    "tickers = [\n",
    "    'ADANIPORTS.NS', 'ASIANPAINT.NS', \n",
    "    'CIPLA.NS', \n",
    "    'ITC.NS', 'ICICIBANK.NS',\n",
    "    'IOC.NS',  'INFY.NS', 'JSWSTEEL.NS', 'KOTAKBANK.NS',\n",
    "    \n",
    "    'RELIANCE.NS', \n",
    "    'VEDL.NS', 'WIPRO.NS'\n",
    "]\n"
   ]
  },
  {
   "cell_type": "code",
   "execution_count": 146,
   "id": "96f00c53-5b42-48bf-a31b-9309120f0e20",
   "metadata": {},
   "outputs": [
    {
     "name": "stderr",
     "output_type": "stream",
     "text": [
      "[*********************100%***********************]  1 of 1 completed\n",
      "[*********************100%***********************]  1 of 1 completed\n",
      "[*********************100%***********************]  1 of 1 completed\n",
      "[*********************100%***********************]  1 of 1 completed\n",
      "[*********************100%***********************]  1 of 1 completed\n",
      "[*********************100%***********************]  1 of 1 completed\n",
      "[*********************100%***********************]  1 of 1 completed\n",
      "[*********************100%***********************]  1 of 1 completed\n",
      "[*********************100%***********************]  1 of 1 completed\n",
      "[*********************100%***********************]  1 of 1 completed\n",
      "[*********************100%***********************]  1 of 1 completed\n",
      "[*********************100%***********************]  1 of 1 completed\n"
     ]
    }
   ],
   "source": [
    "# Store data in dictionary\n",
    "ohlcv_dict = {}\n",
    "for stock in tickers:\n",
    "    ohlcv_dict[stock] = get_ohlcv(ticker=stock, period = '5y', interval='1d', multi_level_index=False)\n",
    "    # ohlcv_dict[stock] = ohlcv_dict[stock].between_time('09:35', '16:00')"
   ]
  },
  {
   "cell_type": "code",
   "execution_count": 147,
   "id": "3b524659-95cd-40f2-91e6-352e17af550d",
   "metadata": {},
   "outputs": [],
   "source": [
    "data = copy.deepcopy(ohlcv_dict)"
   ]
  },
  {
   "cell_type": "markdown",
   "id": "ed5b5d90-8f80-469c-bd45-40f0bad5ac78",
   "metadata": {},
   "source": [
    "# Calculation on Data"
   ]
  },
  {
   "cell_type": "code",
   "execution_count": 148,
   "id": "745cd4cb-fbfc-4e91-bc18-013bc00c9fcb",
   "metadata": {},
   "outputs": [
    {
     "name": "stdout",
     "output_type": "stream",
     "text": [
      "Now processing ['ADANIPORTS.NS']\n",
      "Now processing ['ASIANPAINT.NS']\n",
      "Now processing ['CIPLA.NS']\n",
      "Now processing ['ITC.NS']\n",
      "Now processing ['ICICIBANK.NS']\n",
      "Now processing ['IOC.NS']\n",
      "Now processing ['INFY.NS']\n",
      "Now processing ['JSWSTEEL.NS']\n",
      "Now processing ['KOTAKBANK.NS']\n",
      "Now processing ['RELIANCE.NS']\n",
      "Now processing ['VEDL.NS']\n",
      "Now processing ['WIPRO.NS']\n"
     ]
    }
   ],
   "source": [
    "for stock_name in tickers:\n",
    "    cummulative_returns(data[stock_name])\n",
    "    ATR(data[stock_name])\n",
    "    anomaly(data[stock_name])\n",
    "    support, resistnace  = get_support_resistance_levels(data[stock_name])\n",
    "    data[stock_name]['support'] = support\n",
    "    data[stock_name]['resistance'] = resistnace\n",
    "    historical_volatility(data[stock_name])\n",
    "    historical_volatility(data[stock_name])\n",
    "    RSI(data[stock_name])\n",
    "    VWAP(data[stock_name])\n",
    "    BB(data[stock_name])\n",
    "    data[stock_name]['Close'] = round(data[stock_name]['Close'],2)\n",
    "    data[stock_name]['Signal'] = data[stock_name].apply(stratgey1_mean_reversion, axis=1)\n",
    "    print(f'Now processing {[stock_name]}')"
   ]
  },
  {
   "cell_type": "code",
   "execution_count": 149,
   "id": "c12e25c5-8f76-403d-8c1f-337a6659aedb",
   "metadata": {},
   "outputs": [],
   "source": [
    "# data"
   ]
  },
  {
   "cell_type": "code",
   "execution_count": 152,
   "id": "3b13215f-88fc-4a6b-bf35-25b82701741c",
   "metadata": {},
   "outputs": [
    {
     "name": "stdout",
     "output_type": "stream",
     "text": [
      "Output saved for ADANIPORTS.NS\n",
      "Output saved for ASIANPAINT.NS\n",
      "Output saved for CIPLA.NS\n",
      "Output saved for ITC.NS\n",
      "Output saved for ICICIBANK.NS\n",
      "Output saved for IOC.NS\n",
      "Output saved for INFY.NS\n",
      "Output saved for JSWSTEEL.NS\n",
      "Output saved for KOTAKBANK.NS\n",
      "Output saved for RELIANCE.NS\n",
      "Output saved for VEDL.NS\n",
      "Output saved for WIPRO.NS\n"
     ]
    }
   ],
   "source": [
    "for stock_name in tickers:\n",
    "    df = data[stock_name]\n",
    "    resistance = df.loc[df['resistance']>1]['resistance'].tail(5)\n",
    "    resistance.name = 'Close'\n",
    "    \n",
    "    resistance_levels = [\n",
    "        {\"date\": date.strftime(\"%Y-%m-%d\"), \"Close\": round(Close,2)}\n",
    "        for date, Close in resistance.items()\n",
    "    ]\n",
    "    # resistance_levels\n",
    "    \n",
    "    support = df.loc[df['support']>1]['support'].tail(5)\n",
    "    support.name = 'Close'\n",
    "    \n",
    "    support_levels = [\n",
    "        {\"date\": date.strftime(\"%Y-%m-%d\"), \"Close\": round(Close,2)}\n",
    "        for date, Close in support.items()\n",
    "    ]\n",
    "    \n",
    "    \n",
    "    # Buy\n",
    "    buy = df.loc[df['Signal'] ==1]['Close'].tail(5)\n",
    "    buy.name = 'Close'\n",
    "    \n",
    "    # Sell\n",
    "    sell = df.loc[df['Signal'] ==-1]['Close'].tail(5)\n",
    "    sell.name = 'Close'\n",
    "\n",
    "    fig = go.Figure()\n",
    "    #Close\n",
    "    fig.add_trace(go.Scatter(\n",
    "        x=data[stock_name].index,\n",
    "        y=data[stock_name]['Close'],\n",
    "        mode='lines',  # Set the mode to 'lines' for a line chart\n",
    "        name='Close'# Use the name for each line from the dictionary\n",
    "    ))   \n",
    "\n",
    "    fig.add_trace(go.Scatter(\n",
    "        x=data[stock_name].index,\n",
    "        y=data[stock_name]['MB'],\n",
    "        mode='lines',  # Set the mode to 'lines' for a line chart\n",
    "        name='MB'# Use the name for each line from the dictionary\n",
    "    ))\n",
    "    \n",
    "    fig.add_trace(go.Scatter(\n",
    "        x=data[stock_name].index,\n",
    "        y=data[stock_name]['UB'],\n",
    "        mode='lines',  # Set the mode to 'lines' for a line chart\n",
    "        name='UB'# Use the name for each line from the dictionary\n",
    "    ))\n",
    "        \n",
    "\n",
    "    fig.add_trace(go.Scatter(\n",
    "        x=data[stock_name].index,\n",
    "        y=data[stock_name]['LB'],\n",
    "        mode='lines',  # Set the mode to 'lines' for a line chart\n",
    "        name='LB'# Use the name for each line from the dictionary\n",
    "    )) \n",
    "    \n",
    "    \n",
    "    for level in support_levels:\n",
    "        fig.add_hline(\n",
    "            y=level[\"Close\"],\n",
    "            line=dict(color=\"green\", dash=\"dash\"),\n",
    "            annotation_text=f\"Support ({level['Close']})\",\n",
    "            annotation_position=\"bottom left\"\n",
    "        )\n",
    "    \n",
    "    # Add resistance lines\n",
    "    for level in resistance_levels:\n",
    "        fig.add_hline(\n",
    "            y=level[\"Close\"],\n",
    "            line=dict(color=\"red\", dash=\"dash\"),\n",
    "            annotation_text=f\"Resistance ({level['Close']})\",\n",
    "                    annotation_position=\"top left\"\n",
    "        )\n",
    "    \n",
    "    #Buy\n",
    "    fig.add_trace(go.Scatter(\n",
    "        x=buy.index,\n",
    "        y=buy.values,\n",
    "        mode='markers',\n",
    "        name='Buy Signal',\n",
    "        marker=dict(color='green', size=20, symbol='triangle-up')\n",
    "        ))\n",
    "    \n",
    "    \n",
    "    #Sell\n",
    "    fig.add_trace(go.Scatter(\n",
    "        x=sell.index,\n",
    "        y=sell.values,\n",
    "        mode='markers',\n",
    "        name='Sell Signal',\n",
    "        marker=dict(color='red', size=20, symbol='triangle-down')\n",
    "        ))\n",
    "    \n",
    "    # Customize the layout\n",
    "    fig.update_layout(\n",
    "        title=f\"{stock_name} Signal Chart\",\n",
    "        xaxis_title=\"Year\",\n",
    "        yaxis_title=\"Cumulative Return\",\n",
    "        autosize=False,\n",
    "        width=1100,\n",
    "        height=800,\n",
    "        template='plotly_white'\n",
    "    )\n",
    "        \n",
    "    \n",
    "    \n",
    "    # Path where you want to save\n",
    "    output_dir = \"../PlotlyOutput\"\n",
    "    \n",
    "    # Create the directory if it doesn't exist\n",
    "    os.makedirs(output_dir, exist_ok=True)\n",
    "    \n",
    "    # Full file path\n",
    "    file_path = os.path.join(output_dir, f\"{stock_name}.png\")\n",
    "    \n",
    "    # Save the figure\n",
    "    fig.write_image(file_path)\n",
    "\n",
    "    print(f\"Output saved for {stock_name}\")"
   ]
  },
  {
   "cell_type": "code",
   "execution_count": null,
   "id": "4eb628a0-6e04-479f-8218-eb151f04b858",
   "metadata": {},
   "outputs": [],
   "source": []
  },
  {
   "cell_type": "code",
   "execution_count": null,
   "id": "4e700878-7a58-4b79-96ad-a346acabe049",
   "metadata": {},
   "outputs": [],
   "source": []
  }
 ],
 "metadata": {
  "kernelspec": {
   "display_name": "Python 3 (ipykernel)",
   "language": "python",
   "name": "python3"
  },
  "language_info": {
   "codemirror_mode": {
    "name": "ipython",
    "version": 3
   },
   "file_extension": ".py",
   "mimetype": "text/x-python",
   "name": "python",
   "nbconvert_exporter": "python",
   "pygments_lexer": "ipython3",
   "version": "3.11.7"
  }
 },
 "nbformat": 4,
 "nbformat_minor": 5
}
