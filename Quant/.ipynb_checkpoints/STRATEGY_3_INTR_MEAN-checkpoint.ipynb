{
 "cells": [
  {
   "cell_type": "code",
   "execution_count": 1,
   "id": "1f6ebfac-b0b8-403f-b8e1-8c91ee7e835b",
   "metadata": {},
   "outputs": [],
   "source": [
    "from getData import get_data, get_ohlcv\n",
    "from technical_indicator import LR, MACD, RSI, BB, ATR, ADX, RENKO\n",
    "from Returns import cummulative_returns, CAGR, volatility, SHARPE, SORTINO, MAXDROWDOWN, CALMAR\n",
    "\n",
    "import matplotlib.pyplot as plt\n",
    "import yfinance as yf\n",
    "import pandas as pd\n",
    "import numpy as np\n",
    "import datetime as dt\n",
    "import copy\n",
    "%load_ext autoreload\n",
    "%autoreload 2\n",
    "pd.set_option('mode.chained_assignment', None)"
   ]
  },
  {
   "cell_type": "code",
   "execution_count": 4,
   "id": "307e1bbb-d39e-433a-b442-51f3aedfd89d",
   "metadata": {},
   "outputs": [],
   "source": [
    "tickers = ['RELIANCE.NS'\n",
    ",\n",
    "           \n",
    "           'TCS.NS', 'HDFCBANK.NS', 'BHARTIARTL.NS', 'ICICIBANK.NS', 'INFY.NS', 'SBIN.NS', 'HINDUNILVR.NS', \n",
    "           'BAJFINANCE.NS',\n",
    "           'ITC.NS']\n",
    "# '^NSEI', "
   ]
  },
  {
   "cell_type": "code",
   "execution_count": 177,
   "id": "70354673-3a81-4d30-8882-3b270a5ca538",
   "metadata": {},
   "outputs": [
    {
     "name": "stderr",
     "output_type": "stream",
     "text": [
      "[*********************100%***********************]  1 of 1 completed\n",
      "[*********************100%***********************]  1 of 1 completed\n",
      "[*********************100%***********************]  1 of 1 completed\n",
      "[*********************100%***********************]  1 of 1 completed\n",
      "[*********************100%***********************]  1 of 1 completed\n",
      "[*********************100%***********************]  1 of 1 completed\n",
      "[*********************100%***********************]  1 of 1 completed\n",
      "[*********************100%***********************]  1 of 1 completed\n",
      "[*********************100%***********************]  1 of 1 completed\n",
      "[*********************100%***********************]  1 of 1 completed\n"
     ]
    }
   ],
   "source": [
    "# Store data in dictionary\n",
    "ohlcv_dict = {}\n",
    "for stock in tickers:\n",
    "    ohlcv_dict[stock] = get_ohlcv(ticker=stock, period = '1y', interval='1d', multi_level_index=False)\n",
    "    # ohlcv_dict[stock] = ohlcv_dict[stock].between_time('09:35', '16:00')"
   ]
  },
  {
   "cell_type": "code",
   "execution_count": 178,
   "id": "fefa84d0-8cd2-4a84-80af-a57d4200223b",
   "metadata": {},
   "outputs": [],
   "source": [
    "data = copy.deepcopy(ohlcv_dict)"
   ]
  },
  {
   "cell_type": "code",
   "execution_count": 179,
   "id": "eb23523d-f9fd-4149-9520-905cce7be1f5",
   "metadata": {},
   "outputs": [],
   "source": [
    "# Calculating ATR Roll max Roll min and Roll max for volumn\n",
    "\n",
    "tickers_signal = {}\n",
    "tickers_ret = {}\n",
    "\n",
    "for stock in tickers:\n",
    "    data[stock]['ATR'] = ATR(data[stock], 20)\n",
    "    data[stock]['RSI'] = RSI(data[stock], 14)\n",
    "    data[stock][['MB','UB','LB','STD','WIDTH']] = BB(data[stock], 14)\n",
    "    data[stock]['roll_max_cp'] = data[stock]['High'].rolling(20).max()\n",
    "    data[stock]['roll_min_cp'] = data[stock]['Low'].rolling(20).min()\n",
    "    data[stock]['roll_max_vol'] = data[stock]['Volume'].rolling(20).max()\n",
    "    data[stock].dropna(inplace = True)\n",
    "    data[stock]['Signal'] = 0\n",
    "    tickers_signal[stock] = ''\n",
    "    tickers_ret[stock] = [0]"
   ]
  },
  {
   "cell_type": "code",
   "execution_count": 180,
   "id": "714be66f-b97a-4c68-917d-a59d9d9347de",
   "metadata": {
    "scrolled": true
   },
   "outputs": [
    {
     "name": "stdout",
     "output_type": "stream",
     "text": [
      "Calculating Returns for RELIANCE.NS\n",
      "Calculating Returns for TCS.NS\n",
      "Calculating Returns for HDFCBANK.NS\n",
      "Calculating Returns for BHARTIARTL.NS\n",
      "Calculating Returns for ICICIBANK.NS\n",
      "Calculating Returns for INFY.NS\n",
      "Calculating Returns for SBIN.NS\n",
      "Calculating Returns for HINDUNILVR.NS\n",
      "Calculating Returns for BAJFINANCE.NS\n",
      "Calculating Returns for ITC.NS\n"
     ]
    }
   ],
   "source": [
    "# Identifying signal and calculating return RSI + BB + ATR\n",
    "# Step -1 RSI < 20 and BB < 2SD = Buy\n",
    "for stock in tickers:\n",
    "    print(f\"Calculating Returns for {stock}\")\n",
    "\n",
    "    for i in range(1, len(data[stock])):\n",
    "        if tickers_signal[stock] == \"\":\n",
    "            tickers_ret[stock].append(0)\n",
    "            if ((data[stock]['RSI'].iloc[i] <= 25) and (data[stock]['Close'].iloc[i]< data[stock]['LB'].iloc[i])):\n",
    "                data[stock]['Signal'].iloc[i] = 1\n",
    "                # print(f\"{data[stock].iloc[i]}\")\n",
    "            elif ((data[stock]['RSI'].iloc[i] >= 75) and (data[stock]['Close'].iloc[i]> data[stock]['UB'].iloc[i])):\n",
    "                data[stock]['Signal'].iloc[i] = -1\n",
    "                \n",
    "\n",
    "    #     elif tickers_signal[stock] == \"Buy\":\n",
    "    #         if (data[stock]['Close'].iloc[i].values[0] > data[stock]['MB'].iloc[i-1].values[0]):\n",
    "    #             tickers_signal[stock] == \"\"\n",
    "    #             tickers_ret[stock].append(((data[stock][\"MB\"].iloc[i-1].values[0] - \n",
    "    #                                       data[stock][\"ATR\"].iloc[i-1])/data[stock][\"Close\"].iloc[i-1].values[0])-1)\n",
    "    #         else:\n",
    "    #             tickers_ret[stock].append((data[stock][\"Close\"].iloc[i].values[0]/data[stock][\"Close\"].iloc[i-1].values[0])-1)\n",
    "                \n",
    "    #     elif tickers_signal[stock] == \"Sell\":\n",
    "    #         if (data[stock]['High'].iloc[i].values[0] > (data[stock]['Close'].iloc[i-1].values[0] + data[stock]['ATR'].iloc[i-1])):\n",
    "    #             tickers_signal == \"\"\n",
    "    #             tickers_ret[stock].append(((data[stock][\"Close\"].iloc[i-1].values[0]/\n",
    "    #                                       data[stock][\"ATR\"].iloc[i-1]) +data[stock][\"Close\"].iloc[i-1].values[0])-1)\n",
    "    #         else:\n",
    "    #             tickers_ret[stock].append((data[stock][\"Close\"].iloc[i-1].values[0]/data[stock][\"Close\"].iloc[i].values[0])-1)\n",
    "    # data[stock][\"ret\"] = np.asarray(tickers_ret[stock], dtype=\"object\")"
   ]
  },
  {
   "cell_type": "code",
   "execution_count": 186,
   "id": "78fcee13-db0d-4d1d-8222-665e284d95ef",
   "metadata": {},
   "outputs": [],
   "source": [
    "# # data['RELIANCE.NS'][['Close','RSI','UB','LB','Signal']]\n",
    "df = data['RELIANCE.NS'].copy()\n"
   ]
  },
  {
   "cell_type": "code",
   "execution_count": 191,
   "id": "d3a8da83-4858-41b5-bcbc-7bf9c73931ba",
   "metadata": {},
   "outputs": [
    {
     "data": {
      "text/html": [
       "<div>\n",
       "<style scoped>\n",
       "    .dataframe tbody tr th:only-of-type {\n",
       "        vertical-align: middle;\n",
       "    }\n",
       "\n",
       "    .dataframe tbody tr th {\n",
       "        vertical-align: top;\n",
       "    }\n",
       "\n",
       "    .dataframe thead th {\n",
       "        text-align: right;\n",
       "    }\n",
       "</style>\n",
       "<table border=\"1\" class=\"dataframe\">\n",
       "  <thead>\n",
       "    <tr style=\"text-align: right;\">\n",
       "      <th></th>\n",
       "      <th>Close</th>\n",
       "      <th>High</th>\n",
       "      <th>Low</th>\n",
       "      <th>Open</th>\n",
       "      <th>Volume</th>\n",
       "      <th>ATR</th>\n",
       "      <th>RSI</th>\n",
       "      <th>MB</th>\n",
       "      <th>UB</th>\n",
       "      <th>LB</th>\n",
       "      <th>STD</th>\n",
       "      <th>WIDTH</th>\n",
       "      <th>roll_max_cp</th>\n",
       "      <th>roll_min_cp</th>\n",
       "      <th>roll_max_vol</th>\n",
       "      <th>Signal</th>\n",
       "    </tr>\n",
       "    <tr>\n",
       "      <th>Date</th>\n",
       "      <th></th>\n",
       "      <th></th>\n",
       "      <th></th>\n",
       "      <th></th>\n",
       "      <th></th>\n",
       "      <th></th>\n",
       "      <th></th>\n",
       "      <th></th>\n",
       "      <th></th>\n",
       "      <th></th>\n",
       "      <th></th>\n",
       "      <th></th>\n",
       "      <th></th>\n",
       "      <th></th>\n",
       "      <th></th>\n",
       "      <th></th>\n",
       "    </tr>\n",
       "  </thead>\n",
       "  <tbody>\n",
       "  </tbody>\n",
       "</table>\n",
       "</div>"
      ],
      "text/plain": [
       "Empty DataFrame\n",
       "Columns: [Close, High, Low, Open, Volume, ATR, RSI, MB, UB, LB, STD, WIDTH, roll_max_cp, roll_min_cp, roll_max_vol, Signal]\n",
       "Index: []"
      ]
     },
     "execution_count": 191,
     "metadata": {},
     "output_type": "execute_result"
    }
   ],
   "source": [
    "df[df.RSI <20]"
   ]
  },
  {
   "cell_type": "code",
   "execution_count": 163,
   "id": "30dd9442-df33-4b44-aff4-4779c5699c08",
   "metadata": {},
   "outputs": [],
   "source": [
    "# # (data['RELIANCE.NS']['Signal'] ==0)\n",
    "# # data.query((data['RELIANCE.NS']['Signal'] ==0))\n",
    "# df\n",
    "# # df[df.Signal ==1]['Signal']\n",
    "# data['RELIANCE.NS']['Close']"
   ]
  },
  {
   "cell_type": "code",
   "execution_count": 182,
   "id": "4db02470-2276-4ca4-a704-23bc9f1bbcad",
   "metadata": {},
   "outputs": [
    {
     "data": {
      "image/png": "[encoded data removed]",
      "text/plain": [
       "<Figure size 640x480 with 1 Axes>"
      ]
     },
     "metadata": {},
     "output_type": "display_data"
    }
   ],
   "source": [
    "plt.plot(data['RELIANCE.NS']['Close'])\n",
    "plt.plot(data['RELIANCE.NS']['LB'])\n",
    "plt.plot(data['RELIANCE.NS']['UB'])\n",
    "plt.plot(df[df.Signal ==1]['Close'], marker ='o', color = 'green')\n",
    "plt.plot(df[df.Signal ==-1]['Close'], marker ='o', color = 'red')\n",
    "plt.show()"
   ]
  },
  {
   "cell_type": "code",
   "execution_count": 185,
   "id": "5abf05c2-32d4-498a-b179-adf99f727836",
   "metadata": {},
   "outputs": [
    {
     "data": {
      "text/plain": [
       "Date\n",
       "2024-04-24    True\n",
       "2024-04-25    True\n",
       "2024-04-26    True\n",
       "2024-04-29    True\n",
       "2024-04-30    True\n",
       "              ... \n",
       "2025-03-17    True\n",
       "2025-03-18    True\n",
       "2025-03-19    True\n",
       "2025-03-20    True\n",
       "2025-03-21    True\n",
       "Name: Signal, Length: 228, dtype: bool"
      ]
     },
     "execution_count": 185,
     "metadata": {},
     "output_type": "execute_result"
    }
   ],
   "source": [
    "df = data['RELIANCE.NS']['Signal'] ==0"
   ]
  },
  {
   "cell_type": "code",
   "execution_count": 133,
   "id": "ff755119-7829-42ec-a080-fbb024ea6526",
   "metadata": {},
   "outputs": [
    {
     "data": {
      "text/html": [
       "<div>\n",
       "<style scoped>\n",
       "    .dataframe tbody tr th:only-of-type {\n",
       "        vertical-align: middle;\n",
       "    }\n",
       "\n",
       "    .dataframe tbody tr th {\n",
       "        vertical-align: top;\n",
       "    }\n",
       "\n",
       "    .dataframe thead th {\n",
       "        text-align: right;\n",
       "    }\n",
       "</style>\n",
       "<table border=\"1\" class=\"dataframe\">\n",
       "  <thead>\n",
       "    <tr style=\"text-align: right;\">\n",
       "      <th></th>\n",
       "      <th>Close</th>\n",
       "      <th>High</th>\n",
       "      <th>Low</th>\n",
       "      <th>Open</th>\n",
       "      <th>Volume</th>\n",
       "      <th>ATR</th>\n",
       "      <th>RSI</th>\n",
       "      <th>MB</th>\n",
       "      <th>UB</th>\n",
       "      <th>LB</th>\n",
       "      <th>STD</th>\n",
       "      <th>WIDTH</th>\n",
       "      <th>roll_max_cp</th>\n",
       "      <th>roll_min_cp</th>\n",
       "      <th>roll_max_vol</th>\n",
       "      <th>Signal</th>\n",
       "    </tr>\n",
       "    <tr>\n",
       "      <th>Date</th>\n",
       "      <th></th>\n",
       "      <th></th>\n",
       "      <th></th>\n",
       "      <th></th>\n",
       "      <th></th>\n",
       "      <th></th>\n",
       "      <th></th>\n",
       "      <th></th>\n",
       "      <th></th>\n",
       "      <th></th>\n",
       "      <th></th>\n",
       "      <th></th>\n",
       "      <th></th>\n",
       "      <th></th>\n",
       "      <th></th>\n",
       "      <th></th>\n",
       "    </tr>\n",
       "  </thead>\n",
       "  <tbody>\n",
       "  </tbody>\n",
       "</table>\n",
       "</div>"
      ],
      "text/plain": [
       "Empty DataFrame\n",
       "Columns: [Close, High, Low, Open, Volume, ATR, RSI, MB, UB, LB, STD, WIDTH, roll_max_cp, roll_min_cp, roll_max_vol, Signal]\n",
       "Index: []"
      ]
     },
     "execution_count": 133,
     "metadata": {},
     "output_type": "execute_result"
    }
   ],
   "source": [
    "fig , ax = plt.subplots(figsize = (10,6))\n",
    "ax.plot(data['RELIANCE.NS']['Close'], linewidth = 2)\n",
    "ax.plot(data['RELIANCE.NS']['LB'])\n",
    "ax.plot(data['RELIANCE.NS']['UB'])"
   ]
  },
  {
   "cell_type": "code",
   "execution_count": 431,
   "id": "76ddd2a8-a110-42b8-bf0c-c21b9e155885",
   "metadata": {},
   "outputs": [
    {
     "name": "stdout",
     "output_type": "stream",
     "text": [
      "Calculating Returns for RELIANCE.NS\n",
      "Calculating Returns for TCS.NS\n",
      "Calculating Returns for HDFCBANK.NS\n",
      "Calculating Returns for BHARTIARTL.NS\n",
      "Calculating Returns for ICICIBANK.NS\n",
      "Calculating Returns for INFY.NS\n",
      "Calculating Returns for SBIN.NS\n",
      "Calculating Returns for HINDUNILVR.NS\n",
      "Calculating Returns for BAJFINANCE.NS\n",
      "Calculating Returns for ITC.NS\n"
     ]
    }
   ],
   "source": [
    "# Identifying signal and calculating return\n",
    "\n",
    "for stock in tickers:\n",
    "    print(f\"Calculating Returns for {stock}\")\n",
    "\n",
    "    for i in range(1, len(data[stock])):\n",
    "        # print(data[stock].iloc[i])\n",
    "        if tickers_signal[stock] == \"\":\n",
    "            tickers_ret[stock].append(0)\n",
    "            if (data[stock]['High'].iloc[i].values[0] >= data[stock]['roll_max_cp'].iloc[i]) & (data[stock]['Volume'].iloc[i].values[0] > 1.5 * data[stock]['roll_max_vol'].iloc[i-1]):\n",
    "                # print(\"Condition met\")\n",
    "                tickers_signal[stock] = \"Buy\"\n",
    "            elif (data[stock]['Low'].iloc[i].values[0] <= data[stock]['roll_min_cp'].iloc[i]) & (data[stock]['Volume'].iloc[i].values[0] > 1.5 * data[stock]['roll_max_vol'].iloc[i-1]):\n",
    "                # print(\"Condition met\")\n",
    "                tickers_signal[stock] = \"Sell\"\n",
    "\n",
    "\n",
    "        elif tickers_signal[stock] == \"Buy\":\n",
    "            if (data[stock]['Low'].iloc[i].values[0] >= data[stock]['Close'].iloc[i-1].values[0] - data[stock]['ATR'].iloc[i-1]):\n",
    "                tickers_signal[stock] == \"\"\n",
    "                tickers_ret[stock].append(((data[stock][\"Close\"].iloc[i-1].values[0] - \n",
    "                                          data[stock][\"ATR\"].iloc[i-1])/data[stock][\"Close\"].iloc[i-1].values[0])-1)\n",
    "            else:\n",
    "                tickers_ret[stock].append((data[stock][\"Close\"].iloc[i].values[0]/data[stock][\"Close\"].iloc[i-1].values[0])-1)\n",
    "                \n",
    "        elif tickers_signal[stock] == \"Sell\":\n",
    "            if (data[stock]['High'].iloc[i].values[0] > (data[stock]['Close'].iloc[i-1].values[0] + data[stock]['ATR'].iloc[i-1])):\n",
    "                tickers_signal == \"\"\n",
    "                tickers_ret[stock].append(((data[stock][\"Close\"].iloc[i-1].values[0]/\n",
    "                                          data[stock][\"ATR\"].iloc[i-1]) +data[stock][\"Close\"].iloc[i-1].values[0])-1)\n",
    "            else:\n",
    "                tickers_ret[stock].append((data[stock][\"Close\"].iloc[i-1].values[0]/data[stock][\"Close\"].iloc[i].values[0])-1)\n",
    "    data[stock][\"ret\"] = np.asarray(tickers_ret[stock], dtype=\"object\")"
   ]
  },
  {
   "cell_type": "code",
   "execution_count": 432,
   "id": "cbbddaa3-866e-48fd-9546-54ab27c8843b",
   "metadata": {},
   "outputs": [],
   "source": [
    "# Overall KPI \n",
    "\n",
    "strategy_df = pd.DataFrame()\n",
    "\n",
    "for stock in tickers:\n",
    "    strategy_df[stock] = data[stock]['ret']\n",
    "strategy_df['ret'] = strategy_df.mean(axis = 1)"
   ]
  },
  {
   "cell_type": "code",
   "execution_count": 433,
   "id": "c29b72bc-7c4d-440c-853e-114853da87cb",
   "metadata": {},
   "outputs": [
    {
     "data": {
      "text/plain": [
       "Datetime\n",
       "2025-02-03 09:55:00+00:00           0\n",
       "2025-02-04 09:35:00+00:00           0\n",
       "2025-02-04 09:40:00+00:00           0\n",
       "2025-02-04 09:45:00+00:00           0\n",
       "2025-02-04 09:50:00+00:00           0\n",
       "                               ...   \n",
       "2025-02-28 09:35:00+00:00    0.004948\n",
       "2025-02-28 09:40:00+00:00    0.000916\n",
       "2025-02-28 09:45:00+00:00     0.00334\n",
       "2025-02-28 09:50:00+00:00    0.000961\n",
       "2025-02-28 09:55:00+00:00   -0.000585\n",
       "Name: RELIANCE.NS, Length: 91, dtype: object"
      ]
     },
     "execution_count": 433,
     "metadata": {},
     "output_type": "execute_result"
    }
   ],
   "source": [
    "# vizualization of strategy return\n",
    "# (1+strategy_df[\"ret\"]).cumprod().plot()\n",
    "(strategy_df['RELIANCE.NS'])"
   ]
  },
  {
   "cell_type": "code",
   "execution_count": 436,
   "id": "d49f6455-3c2e-45fd-b4a3-5c9c96739e1f",
   "metadata": {},
   "outputs": [
    {
     "data": {
      "text/plain": [
       "<Axes: xlabel='Datetime'>"
      ]
     },
     "execution_count": 436,
     "metadata": {},
     "output_type": "execute_result"
    },
    {
     "data": {
      "image/png": "[encoded data removed]",
      "text/plain": [
       "<Figure size 640x480 with 1 Axes>"
      ]
     },
     "metadata": {},
     "output_type": "display_data"
    }
   ],
   "source": [
    "strategy_df['RELIANCE.NS'].plot()"
   ]
  },
  {
   "cell_type": "code",
   "execution_count": null,
   "id": "05017020-f62c-4b10-af41-1fcc878f3d39",
   "metadata": {},
   "outputs": [],
   "source": []
  }
 ],
 "metadata": {
  "kernelspec": {
   "display_name": "Python 3 (ipykernel)",
   "language": "python",
   "name": "python3"
  },
  "language_info": {
   "codemirror_mode": {
    "name": "ipython",
    "version": 3
   },
   "file_extension": ".py",
   "mimetype": "text/x-python",
   "name": "python",
   "nbconvert_exporter": "python",
   "pygments_lexer": "ipython3",
   "version": "3.11.7"
  }
 },
 "nbformat": 4,
 "nbformat_minor": 5
}
