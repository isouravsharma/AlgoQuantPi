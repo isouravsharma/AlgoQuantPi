{
 "cells": [
  {
   "cell_type": "code",
   "execution_count": 33,
   "id": "6bf2cdd4-2b8c-4bde-a6a9-078ece9eba0f",
   "metadata": {},
   "outputs": [],
   "source": [
    "# To do analysis on multiple stocks"
   ]
  },
  {
   "cell_type": "code",
   "execution_count": 34,
   "id": "431585d3-e555-4222-a9d0-12b81bad1c1c",
   "metadata": {},
   "outputs": [
    {
     "name": "stdout",
     "output_type": "stream",
     "text": [
      "The autoreload extension is already loaded. To reload it, use:\n",
      "  %reload_ext autoreload\n"
     ]
    }
   ],
   "source": [
    "# libraries \n",
    "\n",
    "from getData import get_data, get_ohlcv\n",
    "from technical_indicator import LR, MACD, RSI, BB, ATR, ADX, RENKO, anomaly, historical_volatility, get_support_resistance_levels, VWAP\n",
    "from Returns import cummulative_returns, CAGR, volatility, SHARPE, SORTINO, MAXDROWDOWN, CALMAR\n",
    "from signals import stratgey1_mean_reversion, label_sd_with_signals,label_exit_signals\n",
    "\n",
    "\n",
    "from plotly.subplots import make_subplots\n",
    "import plotly.graph_objects as go\n",
    "\n",
    "import matplotlib.pyplot as plt\n",
    "import yfinance as yf\n",
    "import pandas as pd\n",
    "import numpy as np\n",
    "import datetime as dt\n",
    "import copy\n",
    "import os\n",
    "\n",
    "%load_ext autoreload\n",
    "%autoreload 2\n",
    "pd.set_option('mode.chained_assignment', None)"
   ]
  },
  {
   "cell_type": "markdown",
   "id": "34c41be2-98ee-4ccd-be0b-9da922cf02be",
   "metadata": {},
   "source": [
    "## Getting Data"
   ]
  },
  {
   "cell_type": "code",
   "execution_count": 35,
   "id": "16cb137a-9894-41da-ad34-a89c56e976f3",
   "metadata": {},
   "outputs": [],
   "source": [
    "tickers = [\n",
    "    \"NVDA\", \"MSFT\", \"AAPL\", \"AMZN\", \"META\", \"AVGO\", \"GOOGL\", \"TSLA\", \"BRK-B\", \"GOOG\",\n",
    "    \"JPM\", \"LLY\", \"V\", \"XOM\", \"COST\", \"MA\", \"UNH\", \"NFLX\", \"WMT\", \"PG\",\n",
    "    \"JNJ\", \"HD\", \"ABBV\", \"BAC\", \"CRM\", \"ORCL\", \"CSCO\", \"GE\", \"PLTR\", \"IBM\",\n",
    "    \"T\", \"PFE\", \"KO\", \"PM\", \"QCOM\", \"ACN\", \"TMO\", \"MCD\", \"VZ\", \"NKE\",\n",
    "    \"LIN\", \"MRK\", \"ABT\", \"AMD\", \"ADBE\", \"AMAT\", \"LOW\", \"DHR\", \"TXN\", \"UPS\",\n",
    "    \"NEE\", \"INTU\", \"SPGI\", \"MS\", \"CAT\", \"UNP\", \"CVX\", \"GS\", \"RTX\", \"ISRG\",\n",
    "    \"AMGN\", \"INTC\", \"BLK\", \"MDT\", \"DE\", \"ADI\", \"NOW\", \"SCHW\", \"LRCX\", \"C\",\n",
    "    \"SYK\", \"MO\", \"TGT\", \"MMC\", \"CI\", \"ZTS\", \"ADP\", \"ELV\", \"ETN\", \"PANW\",\n",
    "    \"PYPL\", \"REGN\", \"BDX\", \"WM\", \"SLB\", \"APD\", \"FISV\", \"VRTX\", \"CB\", \"SO\",\n",
    "    \"CL\", \"EOG\", \"DUK\", \"PGR\", \"MNST\", \"HUM\", \"FCX\", \"AON\", \"PSX\", \"TRV\"\n",
    "]"
   ]
  },
  {
   "cell_type": "code",
   "execution_count": 36,
   "id": "96f00c53-5b42-48bf-a31b-9309120f0e20",
   "metadata": {},
   "outputs": [
    {
     "name": "stderr",
     "output_type": "stream",
     "text": [
      "[*********************100%***********************]  1 of 1 completed\n",
      "[*********************100%***********************]  1 of 1 completed\n",
      "[*********************100%***********************]  1 of 1 completed\n",
      "[*********************100%***********************]  1 of 1 completed\n",
      "[*********************100%***********************]  1 of 1 completed\n",
      "[*********************100%***********************]  1 of 1 completed\n",
      "[*********************100%***********************]  1 of 1 completed\n",
      "[*********************100%***********************]  1 of 1 completed\n",
      "[*********************100%***********************]  1 of 1 completed\n",
      "[*********************100%***********************]  1 of 1 completed\n",
      "[*********************100%***********************]  1 of 1 completed\n",
      "[*********************100%***********************]  1 of 1 completed\n",
      "[*********************100%***********************]  1 of 1 completed\n",
      "[*********************100%***********************]  1 of 1 completed\n",
      "[*********************100%***********************]  1 of 1 completed\n",
      "[*********************100%***********************]  1 of 1 completed\n",
      "[*********************100%***********************]  1 of 1 completed\n",
      "[*********************100%***********************]  1 of 1 completed\n",
      "[*********************100%***********************]  1 of 1 completed\n",
      "[*********************100%***********************]  1 of 1 completed\n",
      "[*********************100%***********************]  1 of 1 completed\n",
      "[*********************100%***********************]  1 of 1 completed\n",
      "[*********************100%***********************]  1 of 1 completed\n",
      "[*********************100%***********************]  1 of 1 completed\n",
      "[*********************100%***********************]  1 of 1 completed\n",
      "[*********************100%***********************]  1 of 1 completed\n",
      "[*********************100%***********************]  1 of 1 completed\n",
      "[*********************100%***********************]  1 of 1 completed\n",
      "[*********************100%***********************]  1 of 1 completed\n",
      "[*********************100%***********************]  1 of 1 completed\n",
      "[*********************100%***********************]  1 of 1 completed\n",
      "[*********************100%***********************]  1 of 1 completed\n",
      "[*********************100%***********************]  1 of 1 completed\n",
      "[*********************100%***********************]  1 of 1 completed\n",
      "[*********************100%***********************]  1 of 1 completed\n",
      "[*********************100%***********************]  1 of 1 completed\n",
      "[*********************100%***********************]  1 of 1 completed\n",
      "[*********************100%***********************]  1 of 1 completed\n",
      "[*********************100%***********************]  1 of 1 completed\n",
      "[*********************100%***********************]  1 of 1 completed\n",
      "[*********************100%***********************]  1 of 1 completed\n",
      "[*********************100%***********************]  1 of 1 completed\n",
      "[*********************100%***********************]  1 of 1 completed\n",
      "[*********************100%***********************]  1 of 1 completed\n",
      "[*********************100%***********************]  1 of 1 completed\n",
      "[*********************100%***********************]  1 of 1 completed\n",
      "[*********************100%***********************]  1 of 1 completed\n",
      "[*********************100%***********************]  1 of 1 completed\n",
      "[*********************100%***********************]  1 of 1 completed\n",
      "[*********************100%***********************]  1 of 1 completed\n",
      "[*********************100%***********************]  1 of 1 completed\n",
      "[*********************100%***********************]  1 of 1 completed\n",
      "[*********************100%***********************]  1 of 1 completed\n",
      "[*********************100%***********************]  1 of 1 completed\n",
      "[*********************100%***********************]  1 of 1 completed\n",
      "[*********************100%***********************]  1 of 1 completed\n",
      "[*********************100%***********************]  1 of 1 completed\n",
      "[*********************100%***********************]  1 of 1 completed\n",
      "[*********************100%***********************]  1 of 1 completed\n",
      "[*********************100%***********************]  1 of 1 completed\n",
      "[*********************100%***********************]  1 of 1 completed\n",
      "[*********************100%***********************]  1 of 1 completed\n",
      "[*********************100%***********************]  1 of 1 completed\n",
      "[*********************100%***********************]  1 of 1 completed\n",
      "[*********************100%***********************]  1 of 1 completed\n",
      "[*********************100%***********************]  1 of 1 completed\n",
      "[*********************100%***********************]  1 of 1 completed\n",
      "[*********************100%***********************]  1 of 1 completed\n",
      "[*********************100%***********************]  1 of 1 completed\n",
      "[*********************100%***********************]  1 of 1 completed\n",
      "[*********************100%***********************]  1 of 1 completed\n",
      "[*********************100%***********************]  1 of 1 completed\n",
      "[*********************100%***********************]  1 of 1 completed\n",
      "[*********************100%***********************]  1 of 1 completed\n",
      "[*********************100%***********************]  1 of 1 completed\n",
      "[*********************100%***********************]  1 of 1 completed\n",
      "[*********************100%***********************]  1 of 1 completed\n",
      "[*********************100%***********************]  1 of 1 completed\n",
      "[*********************100%***********************]  1 of 1 completed\n",
      "[*********************100%***********************]  1 of 1 completed\n",
      "[*********************100%***********************]  1 of 1 completed\n",
      "[*********************100%***********************]  1 of 1 completed\n",
      "[*********************100%***********************]  1 of 1 completed\n",
      "[*********************100%***********************]  1 of 1 completed\n",
      "[*********************100%***********************]  1 of 1 completed\n",
      "[*********************100%***********************]  1 of 1 completed\n",
      "[*********************100%***********************]  1 of 1 completed\n",
      "\n",
      "1 Failed download:\n",
      "['FISV']: YFPricesMissingError('possibly delisted; no price data found  (period=1y) (Yahoo error = \"No data found, symbol may be delisted\")')\n",
      "[*********************100%***********************]  1 of 1 completed\n",
      "[*********************100%***********************]  1 of 1 completed\n",
      "[*********************100%***********************]  1 of 1 completed\n",
      "[*********************100%***********************]  1 of 1 completed\n",
      "[*********************100%***********************]  1 of 1 completed\n",
      "[*********************100%***********************]  1 of 1 completed\n",
      "[*********************100%***********************]  1 of 1 completed\n",
      "[*********************100%***********************]  1 of 1 completed\n",
      "[*********************100%***********************]  1 of 1 completed\n",
      "[*********************100%***********************]  1 of 1 completed\n",
      "[*********************100%***********************]  1 of 1 completed\n",
      "[*********************100%***********************]  1 of 1 completed\n",
      "[*********************100%***********************]  1 of 1 completed\n"
     ]
    }
   ],
   "source": [
    "# Store data in dictionary\n",
    "ohlcv_dict = {}\n",
    "for stock in tickers:\n",
    "    ohlcv_dict[stock] = get_ohlcv(ticker=stock, period = '1y', interval='1d', multi_level_index=False)\n",
    "    # ohlcv_dict[stock] = ohlcv_dict[stock].between_time('09:35', '16:00')"
   ]
  },
  {
   "cell_type": "code",
   "execution_count": 37,
   "id": "3b524659-95cd-40f2-91e6-352e17af550d",
   "metadata": {},
   "outputs": [],
   "source": [
    "data = copy.deepcopy(ohlcv_dict)"
   ]
  },
  {
   "cell_type": "code",
   "execution_count": 38,
   "id": "bf2cb902-e029-42b8-b946-26cf4530e3db",
   "metadata": {},
   "outputs": [
    {
     "name": "stdout",
     "output_type": "stream",
     "text": [
      "Now processing NVDA\n",
      "Now processing MSFT\n",
      "Now processing AAPL\n",
      "Now processing AMZN\n",
      "Now processing META\n",
      "Now processing AVGO\n",
      "Now processing GOOGL\n",
      "Now processing TSLA\n",
      "Now processing BRK-B\n",
      "Now processing GOOG\n",
      "Now processing JPM\n",
      "Now processing LLY\n",
      "Now processing V\n",
      "Now processing XOM\n",
      "Now processing COST\n",
      "Now processing MA\n",
      "Now processing UNH\n",
      "Now processing NFLX\n",
      "Now processing WMT\n",
      "Now processing PG\n",
      "Now processing JNJ\n",
      "Now processing HD\n",
      "Now processing ABBV\n",
      "Now processing BAC\n",
      "Now processing CRM\n",
      "Now processing ORCL\n",
      "Now processing CSCO\n",
      "Now processing GE\n",
      "Now processing PLTR\n",
      "Now processing IBM\n",
      "Now processing T\n",
      "Now processing PFE\n",
      "Now processing KO\n",
      "Now processing PM\n",
      "Now processing QCOM\n",
      "Now processing ACN\n",
      "Now processing TMO\n",
      "Now processing MCD\n",
      "Now processing VZ\n",
      "Now processing NKE\n",
      "Now processing LIN\n",
      "Now processing MRK\n",
      "Now processing ABT\n",
      "Now processing AMD\n",
      "Now processing ADBE\n",
      "Now processing AMAT\n",
      "Now processing LOW\n",
      "Now processing DHR\n",
      "Now processing TXN\n",
      "Now processing UPS\n",
      "Now processing NEE\n",
      "Now processing INTU\n",
      "Now processing SPGI\n",
      "Now processing MS\n",
      "Now processing CAT\n",
      "Now processing UNP\n",
      "Now processing CVX\n",
      "Now processing GS\n",
      "Now processing RTX\n",
      "Now processing ISRG\n",
      "Now processing AMGN\n",
      "Now processing INTC\n",
      "Now processing BLK\n",
      "Now processing MDT\n",
      "Now processing DE\n",
      "Now processing ADI\n",
      "Now processing NOW\n",
      "Now processing SCHW\n",
      "Now processing LRCX\n",
      "Now processing C\n",
      "Now processing SYK\n",
      "Now processing MO\n",
      "Now processing TGT\n",
      "Now processing MMC\n",
      "Now processing CI\n",
      "Now processing ZTS\n",
      "Now processing ADP\n",
      "Now processing ELV\n",
      "Now processing ETN\n",
      "Now processing PANW\n",
      "Now processing PYPL\n",
      "Now processing REGN\n",
      "Now processing BDX\n",
      "Now processing WM\n",
      "Now processing SLB\n",
      "Now processing APD\n",
      "Error processing FISV: attempt to get argmax of an empty sequence, skipping.\n",
      "Now processing VRTX\n",
      "Now processing CB\n",
      "Now processing SO\n",
      "Now processing CL\n",
      "Now processing EOG\n",
      "Now processing DUK\n",
      "Now processing PGR\n",
      "Now processing MNST\n",
      "Now processing HUM\n",
      "Now processing FCX\n",
      "Now processing AON\n",
      "Now processing PSX\n",
      "Now processing TRV\n"
     ]
    }
   ],
   "source": [
    "for stock_name in tickers:\n",
    "    try:\n",
    "        cummulative_returns(data[stock_name])\n",
    "        ATR(data[stock_name])\n",
    "        anomaly(data[stock_name])\n",
    "        support, resistance = get_support_resistance_levels(data[stock_name])\n",
    "        data[stock_name]['support'] = support\n",
    "        data[stock_name]['resistance'] = resistance\n",
    "        historical_volatility(data[stock_name])\n",
    "        # historical_volatility called twice? Removed duplicate call\n",
    "        RSI(data[stock_name])\n",
    "        VWAP(data[stock_name])\n",
    "        BB(data[stock_name])\n",
    "        data[stock_name]['Close'] = round(data[stock_name]['Close'], 2)\n",
    "        data[stock_name]['Signal'] = data[stock_name].apply(stratgey1_mean_reversion, axis=1)\n",
    "        data[stock_name]['m_half_50'] = data[stock_name]['Close'].ewm(halflife=50).mean()\n",
    "        data[stock_name]['Distance_From_Mean'] = data[stock_name]['Close'] - data[stock_name]['m_half_50']\n",
    "        data[stock_name]=label_sd_with_signals(data[stock_name])\n",
    "        data[stock_name]=label_exit_signals(data[stock_name])\n",
    "        print(f'Now processing {stock_name}')\n",
    "        \n",
    "    except KeyError:\n",
    "        print(f\"Data for {stock_name} not found, skipping.\")\n",
    "        continue\n",
    "    except Exception as e:\n",
    "        print(f\"Error processing {stock_name}: {e}, skipping.\")\n",
    "        continue\n"
   ]
  },
  {
   "cell_type": "code",
   "execution_count": 39,
   "id": "c12e25c5-8f76-403d-8c1f-337a6659aedb",
   "metadata": {},
   "outputs": [],
   "source": [
    "# data['AAPL']"
   ]
  },
  {
   "cell_type": "code",
   "execution_count": 40,
   "id": "3497e8fb-1b1b-4ffd-b9a0-bab48e3fe96d",
   "metadata": {},
   "outputs": [
    {
     "name": "stdout",
     "output_type": "stream",
     "text": [
      "Data for FISV not found, skipping.\n"
     ]
    }
   ],
   "source": [
    "buy_opportunities = []\n",
    "\n",
    "\n",
    "for stock_name in tickers:\n",
    "    try:\n",
    "        df = data[stock_name]\n",
    "        df['Date'] = df.index\n",
    "        # filtered = df[df['Label'].isin(['BELOW 1 SD'])].copy()\n",
    "        filtered = df[df['Label'].isin(['BELOW 2 SD', 'BELOW 3 SD'])].copy()\n",
    "        # filtered = df[df['Label'].isin(['BELOW 3 SD'])].copy()\n",
    "        filtered['Stock'] = stock_name  # Optional: add stock name column\n",
    "        buy_opportunities.append(filtered)\n",
    "    except KeyError:\n",
    "        print(f\"Data for {stock_name} not found, skipping.\")\n",
    "        continue\n",
    "    except Exception as e:\n",
    "        print(f\"Error processing {stock_name}: {e}, skipping.\")\n",
    "\n",
    "buy_opportunity = pd.concat(buy_opportunities, ignore_index=True)\n"
   ]
  },
  {
   "cell_type": "code",
   "execution_count": 44,
   "id": "1f33abc6-388c-415b-ad8c-571dd2ef65e5",
   "metadata": {},
   "outputs": [
    {
     "data": {
      "text/plain": [
       "array(['PGR', 'ABT', 'ELV', 'PG'], dtype=object)"
      ]
     },
     "execution_count": 44,
     "metadata": {},
     "output_type": "execute_result"
    }
   ],
   "source": [
    "track = buy_opportunity.sort_values(by='Date', ascending=False)\n",
    "track[track['Date']>'2025-07-01']['Stock'].unique()"
   ]
  },
  {
   "cell_type": "code",
   "execution_count": 42,
   "id": "3fb266da-6ce5-42df-87a3-e74e61ad1826",
   "metadata": {},
   "outputs": [],
   "source": [
    "# buy_opportunity['Stock'].unique()"
   ]
  },
  {
   "cell_type": "code",
   "execution_count": 43,
   "id": "4eb628a0-6e04-479f-8218-eb151f04b858",
   "metadata": {},
   "outputs": [
    {
     "data": {
      "text/plain": [
       "array(['PGR', 'ABT', 'ELV', 'PG', 'MCD', 'UNH', 'BDX', 'MRK'],\n",
       "      dtype=object)"
      ]
     },
     "execution_count": 43,
     "metadata": {},
     "output_type": "execute_result"
    }
   ],
   "source": [
    "track[track['Date']>'2025-05-01']['Stock'].unique()\n"
   ]
  },
  {
   "cell_type": "code",
   "execution_count": null,
   "id": "4e700878-7a58-4b79-96ad-a346acabe049",
   "metadata": {},
   "outputs": [],
   "source": []
  }
 ],
 "metadata": {
  "kernelspec": {
   "display_name": "Python 3 (ipykernel)",
   "language": "python",
   "name": "python3"
  },
  "language_info": {
   "codemirror_mode": {
    "name": "ipython",
    "version": 3
   },
   "file_extension": ".py",
   "mimetype": "text/x-python",
   "name": "python",
   "nbconvert_exporter": "python",
   "pygments_lexer": "ipython3",
   "version": "3.11.7"
  }
 },
 "nbformat": 4,
 "nbformat_minor": 5
}
